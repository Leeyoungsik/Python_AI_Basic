{
  "nbformat": 4,
  "nbformat_minor": 0,
  "metadata": {
    "colab": {
      "private_outputs": true,
      "provenance": [],
      "toc_visible": true,
      "include_colab_link": true
    },
    "kernelspec": {
      "name": "python3",
      "display_name": "Python 3"
    },
    "language_info": {
      "name": "python"
    }
  },
  "cells": [
    {
      "cell_type": "markdown",
      "metadata": {
        "id": "view-in-github",
        "colab_type": "text"
      },
      "source": [
        "<a href=\"https://colab.research.google.com/github/Leeyoungsik/Python_AI_Basic/blob/main/plotly_exercise.ipynb\" target=\"_parent\"><img src=\"https://colab.research.google.com/assets/colab-badge.svg\" alt=\"Open In Colab\"/></a>"
      ]
    },
    {
      "cell_type": "code",
      "execution_count": null,
      "metadata": {
        "collapsed": true,
        "id": "7T_zDmZDFmjr"
      },
      "outputs": [],
      "source": [
        "!pip install pandas-datareader\n",
        "!pip install yfinance"
      ]
    },
    {
      "cell_type": "code",
      "source": [
        "from pandas_datareader import data\n",
        "import yfinance as yfin\n",
        "\n",
        "yfin.pdr_override()\n",
        "\n",
        "df = data.get_data_yahoo('005930.KS', start = '2022-01-01')"
      ],
      "metadata": {
        "id": "n3EfufLXFpGm"
      },
      "execution_count": null,
      "outputs": []
    },
    {
      "cell_type": "code",
      "source": [
        "import plotly.express as px\n",
        "\n",
        "fig = px.line(df, y=\"Close\")\n",
        "fig.show()"
      ],
      "metadata": {
        "id": "NJ-fMmVVFq4I"
      },
      "execution_count": null,
      "outputs": []
    },
    {
      "cell_type": "code",
      "source": [
        "fig = px.scatter(df, y=\"Close\")\n",
        "fig.show()"
      ],
      "metadata": {
        "id": "Qr2CGdAkF5oM"
      },
      "execution_count": null,
      "outputs": []
    },
    {
      "cell_type": "code",
      "source": [
        "fig = px.bar(df, x=df.index, y='Volume')\n",
        "fig.show()"
      ],
      "metadata": {
        "id": "iLG7eJecKfNP"
      },
      "execution_count": null,
      "outputs": []
    },
    {
      "cell_type": "code",
      "source": [
        "import plotly.graph_objects as go\n",
        "\n",
        "fig = go.Figure(data = [go.Candlestick(x=df.index,\n",
        "                                       open = df['Open'],\n",
        "                                       high = df['High'],\n",
        "                                       low = df['Low'],\n",
        "                                       close = df['Close'])])\n",
        "fig.show()"
      ],
      "metadata": {
        "id": "de-dN2wyKwCf"
      },
      "execution_count": null,
      "outputs": []
    },
    {
      "cell_type": "code",
      "source": [],
      "metadata": {
        "id": "LbYMhiKHMOQo"
      },
      "execution_count": null,
      "outputs": []
    }
  ]
}